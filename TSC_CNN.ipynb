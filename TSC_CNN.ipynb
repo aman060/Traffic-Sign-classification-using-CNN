{
 "cells": [
  {
   "cell_type": "code",
   "execution_count": 1,
   "metadata": {},
   "outputs": [
    {
     "name": "stderr",
     "output_type": "stream",
     "text": [
      "Using TensorFlow backend.\n"
     ]
    }
   ],
   "source": [
    "import pandas as pd\n",
    "import numpy as np\n",
    "import tensorflow as tf\n",
    "import keras\n",
    "import matplotlib.pyplot as plt\n",
    "from sklearn.model_selection import train_test_split\n",
    "from tqdm import tqdm\n",
    "import os\n",
    "from random import shuffle\n",
    "import cv2\n",
    "\n",
    "TEST_DIR = r'C:\\Users\\aman\\Documents\\jupitor_projects\\Trafiic_sign_classifier using CNN\\Testing'\n",
    "TRAIN_DIR = r'C:\\Users\\aman\\Documents\\jupitor_projects\\Trafiic_sign_classifier using CNN\\Training'"
   ]
  },
  {
   "cell_type": "code",
   "execution_count": 27,
   "metadata": {},
   "outputs": [
    {
     "name": "stdout",
     "output_type": "stream",
     "text": [
      "-------------------------- 61 files from train ---------------\n"
     ]
    },
    {
     "name": "stderr",
     "output_type": "stream",
     "text": [
      "100%|██████████████████████████████████████████████████████████████████████████████████| 62/62 [00:03<00:00, 17.47it/s]\n"
     ]
    },
    {
     "name": "stdout",
     "output_type": "stream",
     "text": [
      "-------------------------- 61 files from test ---------------\n"
     ]
    },
    {
     "name": "stderr",
     "output_type": "stream",
     "text": [
      "100%|██████████████████████████████████████████████████████████████████████████████████| 62/62 [00:01<00:00, 35.00it/s]\n"
     ]
    }
   ],
   "source": [
    "IMG_SIZE = 32\n",
    "LR =1e-3\n",
    "Model_Name = \"TSC_using_CNN-{0}-{1}.model\".format(LR, \"2conv-basic\")\n",
    "\n",
    "def load_my_data(data_dir):\n",
    "    all_dir = [d for d in os.listdir(data_dir) if os.path.isdir(os.path.join(data_dir, d))]\n",
    "    \n",
    "    data = []\n",
    "    for d in tqdm(all_dir):\n",
    "        files = os.path.join(data_dir, d)\n",
    "        file_names = [os.path.join(files, fname) for fname in os.listdir(files) if fname.endswith(\".ppm\")]\n",
    "        for f in file_names:\n",
    "            img = cv2.resize(cv2.imread(f), (IMG_SIZE, IMG_SIZE))\n",
    "            img = np.array(img)\n",
    "            data.append([img, int(d)])\n",
    "    return data\n",
    "\n",
    "print(\"-------------------------- 61 files from train ---------------\")\n",
    "train_data = load_my_data(TRAIN_DIR)\n",
    "print(\"-------------------------- 61 files from test ---------------\")\n",
    "test_data = load_my_data(TEST_DIR)"
   ]
  },
  {
   "cell_type": "code",
   "execution_count": 19,
   "metadata": {},
   "outputs": [
    {
     "data": {
      "text/plain": [
       "<matplotlib.image.AxesImage at 0x26518cd6a58>"
      ]
     },
     "execution_count": 19,
     "metadata": {},
     "output_type": "execute_result"
    },
    {
     "data": {
      "image/png": "[encoded data removed]",
      "text/plain": [
       "<Figure size 432x288 with 1 Axes>"
      ]
     },
     "metadata": {
      "needs_background": "light"
     },
     "output_type": "display_data"
    }
   ],
   "source": [
    "plt.imshow(train_data[0][0])"
   ]
  },
  {
   "cell_type": "code",
   "execution_count": 20,
   "metadata": {},
   "outputs": [],
   "source": [
    "shuffle(train_data)\n",
    "shuffle(test_data)\n",
    "np.save(\"train_data.npy\", train_data)\n",
    "np.save(\"test_data.npy\", test_data)"
   ]
  },
  {
   "cell_type": "code",
   "execution_count": 51,
   "metadata": {},
   "outputs": [],
   "source": [
    "\n",
    "#modeling using tensorflow and network arch. LeNet-5\n",
    "\n",
    "model = tf.keras.models.Sequential()\n",
    "input_s = (IMG_SIZE, IMG_SIZE, 3)\n",
    "#1.convolution layer with 64 filters and each filter of 5X5\n",
    "model.add(tf.keras.layers.Conv2D(kernel_size = (5, 5), filters = 32, input_shape = input_s, activation=tf.nn.relu))\n",
    "#2. max pool layer with srides=2 and fliter of size 2X2\n",
    "model.add(tf.keras.layers.MaxPool2D(pool_size = (2, 2), strides = 2))\n",
    "    \n",
    "#1.convolution layer with 64 filters and each filter of 5X5\n",
    "model.add(tf.keras.layers.Conv2D(kernel_size = (5, 5), filters = 70, activation=tf.nn.relu))\n",
    "#2. max pool layer with srides=2 and fliter of size 2X2\n",
    "model.add(tf.keras.layers.MaxPool2D(pool_size = (2, 2), strides = 2))\n",
    "\n",
    "#flatten the data for fully connected layers\n",
    "model.add(tf.keras.layers.Flatten())\n",
    "\n",
    "#1st FC\n",
    "model.add(tf.keras.layers.Dense(1064, activation=tf.nn.relu))\n",
    "#2nd FC\n",
    "model.add(tf.keras.layers.Dense(512, activation=tf.nn.relu))\n",
    "\n",
    "#final softmax for classification\n",
    "model.add(tf.keras.layers.Dense(62, activation=tf.nn.softmax))\n",
    "\n",
    "model.compile(optimizer='adam',\n",
    "             loss='sparse_categorical_crossentropy',\n",
    "             metrics=['accuracy'])\n"
   ]
  },
  {
   "cell_type": "code",
   "execution_count": 31,
   "metadata": {},
   "outputs": [
    {
     "data": {
      "text/plain": [
       "(4575, 32, 32, 3)"
      ]
     },
     "execution_count": 31,
     "metadata": {},
     "output_type": "execute_result"
    }
   ],
   "source": [
    "x_train = np.array([item[0] for item in train_data[:]])\n",
    "x_train = np.reshape(x_train, (-1, IMG_SIZE, IMG_SIZE, 3))\n",
    "y_train = np.array([item[1] for item in train_data[:]])\n",
    "\n",
    "x_train.shape\n"
   ]
  },
  {
   "cell_type": "code",
   "execution_count": 52,
   "metadata": {},
   "outputs": [
    {
     "name": "stdout",
     "output_type": "stream",
     "text": [
      "Epoch 1/3\n",
      "4575/4575 [==============================] - 23s 5ms/sample - loss: 3.8884 - acc: 0.6271\n",
      "Epoch 2/3\n",
      "4575/4575 [==============================] - 22s 5ms/sample - loss: 0.4087 - acc: 0.8975\n",
      "Epoch 3/3\n",
      "4575/4575 [==============================] - 22s 5ms/sample - loss: 0.2156 - acc: 0.9445\n"
     ]
    },
    {
     "data": {
      "text/plain": [
       "<tensorflow.python.keras.callbacks.History at 0x2653fb1bbe0>"
      ]
     },
     "execution_count": 52,
     "metadata": {},
     "output_type": "execute_result"
    }
   ],
   "source": [
    "model.fit(x_train, y_train, epochs=3)"
   ]
  },
  {
   "cell_type": "code",
   "execution_count": 28,
   "metadata": {},
   "outputs": [
    {
     "data": {
      "text/plain": [
       "(2520,)"
      ]
     },
     "execution_count": 28,
     "metadata": {},
     "output_type": "execute_result"
    }
   ],
   "source": [
    "testx = np.array([item[0] for item in test_data[:]])\n",
    "testx = np.reshape(testx, (-1, IMG_SIZE, IMG_SIZE, 3))\n",
    "testy = np.array([item[1] for item in test_data[:]])\n",
    "testx.shape\n",
    "testy.shape"
   ]
  },
  {
   "cell_type": "code",
   "execution_count": 53,
   "metadata": {},
   "outputs": [
    {
     "name": "stdout",
     "output_type": "stream",
     "text": []
    },
    {
     "name": "stdout",
     "output_type": "stream",
     "text": []
    },
    {
     "name": "stdout",
     "output_type": "stream",
     "text": []
    },
    {
     "name": "stdout",
     "output_type": "stream",
     "text": []
    },
    {
     "name": "stdout",
     "output_type": "stream",
     "text": []
    },
    {
     "name": "stdout",
     "output_type": "stream",
     "text": []
    },
    {
     "name": "stdout",
     "output_type": "stream",
     "text": []
    },
    {
     "name": "stdout",
     "output_type": "stream",
     "text": []
    },
    {
     "name": "stdout",
     "output_type": "stream",
     "text": []
    },
    {
     "name": "stdout",
     "output_type": "stream",
     "text": []
    },
    {
     "name": "stdout",
     "output_type": "stream",
     "text": []
    },
    {
     "name": "stdout",
     "output_type": "stream",
     "text": []
    },
    {
     "name": "stdout",
     "output_type": "stream",
     "text": []
    },
    {
     "name": "stdout",
     "output_type": "stream",
     "text": []
    },
    {
     "name": "stdout",
     "output_type": "stream",
     "text": []
    },
    {
     "name": "stdout",
     "output_type": "stream",
     "text": []
    },
    {
     "name": "stdout",
     "output_type": "stream",
     "text": []
    },
    {
     "name": "stdout",
     "output_type": "stream",
     "text": []
    },
    {
     "name": "stdout",
     "output_type": "stream",
     "text": []
    },
    {
     "name": "stdout",
     "output_type": "stream",
     "text": []
    },
    {
     "name": "stdout",
     "output_type": "stream",
     "text": []
    },
    {
     "name": "stdout",
     "output_type": "stream",
     "text": []
    },
    {
     "name": "stdout",
     "output_type": "stream",
     "text": []
    },
    {
     "name": "stdout",
     "output_type": "stream",
     "text": []
    },
    {
     "name": "stdout",
     "output_type": "stream",
     "text": []
    },
    {
     "name": "stdout",
     "output_type": "stream",
     "text": []
    },
    {
     "name": "stdout",
     "output_type": "stream",
     "text": []
    },
    {
     "name": "stdout",
     "output_type": "stream",
     "text": []
    },
    {
     "name": "stdout",
     "output_type": "stream",
     "text": []
    },
    {
     "name": "stdout",
     "output_type": "stream",
     "text": []
    },
    {
     "name": "stdout",
     "output_type": "stream",
     "text": []
    },
    {
     "name": "stdout",
     "output_type": "stream",
     "text": []
    },
    {
     "name": "stdout",
     "output_type": "stream",
     "text": []
    },
    {
     "name": "stdout",
     "output_type": "stream",
     "text": []
    },
    {
     "name": "stdout",
     "output_type": "stream",
     "text": []
    },
    {
     "name": "stdout",
     "output_type": "stream",
     "text": []
    },
    {
     "name": "stdout",
     "output_type": "stream",
     "text": []
    },
    {
     "name": "stdout",
     "output_type": "stream",
     "text": []
    },
    {
     "name": "stdout",
     "output_type": "stream",
     "text": []
    },
    {
     "name": "stdout",
     "output_type": "stream",
     "text": []
    },
    {
     "name": "stdout",
     "output_type": "stream",
     "text": []
    },
    {
     "name": "stdout",
     "output_type": "stream",
     "text": [
      "2520/2520 [==============================] - 3s 1ms/sample - loss: 0.5330 - acc: 0.8877\n",
      "[0.5330346159286804, 0.8876984]\n"
     ]
    }
   ],
   "source": [
    "x = model.evaluate(testx, testy)\n",
    "print(x)"
   ]
  },
  {
   "cell_type": "code",
   "execution_count": 54,
   "metadata": {},
   "outputs": [],
   "source": [
    "model.save('tsc_model.model')"
   ]
  },
  {
   "cell_type": "code",
   "execution_count": null,
   "metadata": {},
   "outputs": [],
   "source": []
  },
  {
   "cell_type": "code",
   "execution_count": 55,
   "metadata": {},
   "outputs": [
    {
     "name": "stderr",
     "output_type": "stream",
     "text": [
      "W0627 23:21:05.538877  4392 deprecation.py:506] From C:\\Users\\aman\\Anaconda3\\envs\\tensorflow-gpu\\lib\\site-packages\\tensorflow\\python\\ops\\init_ops.py:97: calling GlorotUniform.__init__ (from tensorflow.python.ops.init_ops) with dtype is deprecated and will be removed in a future version.\n",
      "Instructions for updating:\n",
      "Call initializer instance with the dtype argument instead of passing it to the constructor\n",
      "W0627 23:21:05.542875  4392 deprecation.py:506] From C:\\Users\\aman\\Anaconda3\\envs\\tensorflow-gpu\\lib\\site-packages\\tensorflow\\python\\ops\\init_ops.py:97: calling Zeros.__init__ (from tensorflow.python.ops.init_ops) with dtype is deprecated and will be removed in a future version.\n",
      "Instructions for updating:\n",
      "Call initializer instance with the dtype argument instead of passing it to the constructor\n"
     ]
    }
   ],
   "source": [
    "nw_model = tf.keras.models.load_model(\"tsc_model.model\")"
   ]
  },
  {
   "cell_type": "code",
   "execution_count": null,
   "metadata": {},
   "outputs": [],
   "source": []
  },
  {
   "cell_type": "code",
   "execution_count": null,
   "metadata": {},
   "outputs": [],
   "source": []
  },
  {
   "cell_type": "code",
   "execution_count": null,
   "metadata": {},
   "outputs": [],
   "source": []
  }
 ],
 "metadata": {
  "kernelspec": {
   "display_name": "Python 3",
   "language": "python",
   "name": "python3"
  },
  "language_info": {
   "codemirror_mode": {
    "name": "ipython",
    "version": 3
   },
   "file_extension": ".py",
   "mimetype": "text/x-python",
   "name": "python",
   "nbconvert_exporter": "python",
   "pygments_lexer": "ipython3",
   "version": "3.6.8"
  }
 },
 "nbformat": 4,
 "nbformat_minor": 2
}
